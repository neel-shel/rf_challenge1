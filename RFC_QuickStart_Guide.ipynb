{
  "cells": [
    {
      "cell_type": "markdown",
      "metadata": {
        "id": "view-in-github",
        "colab_type": "text"
      },
      "source": [
        "<a href=\"https://colab.research.google.com/github/neel-shel/rf_challenge1/blob/main/RFC_QuickStart_Guide.ipynb\" target=\"_parent\"><img src=\"https://colab.research.google.com/assets/colab-badge.svg\" alt=\"Open In Colab\"/></a>"
      ]
    },
    {
      "cell_type": "code",
      "execution_count": null,
      "id": "f92bbb09-2961-4aee-98e9-6080259cbb16",
      "metadata": {
        "colab": {
          "base_uri": "https://localhost:8080/"
        },
        "id": "f92bbb09-2961-4aee-98e9-6080259cbb16",
        "outputId": "8feaa8f1-6293-48a6-874c-d44edf34699a"
      },
      "outputs": [
        {
          "output_type": "stream",
          "name": "stdout",
          "text": [
            "The autoreload extension is already loaded. To reload it, use:\n",
            "  %reload_ext autoreload\n",
            "/content/drive/MyDrive/icassp2024rfchallenge\n"
          ]
        }
      ],
      "source": [
        "%load_ext autoreload\n",
        "%autoreload 2\n",
        "\n",
        "import os\n",
        "os.chdir(globals()['_dh'][0])\n",
        "os.chdir('/content/drive/MyDrive/icassp2024rfchallenge')\n",
        "print(os.path.abspath(os.curdir))"
      ]
    },
    {
      "cell_type": "code",
      "source": [
        "from google.colab import drive\n",
        "drive.mount('/content/drive')"
      ],
      "metadata": {
        "colab": {
          "base_uri": "https://localhost:8080/"
        },
        "id": "RY3kRYxfj-A_",
        "outputId": "c5286116-415f-4b68-df22-bf56fd687a94"
      },
      "id": "RY3kRYxfj-A_",
      "execution_count": null,
      "outputs": [
        {
          "output_type": "stream",
          "name": "stdout",
          "text": [
            "Drive already mounted at /content/drive; to attempt to forcibly remount, call drive.mount(\"/content/drive\", force_remount=True).\n"
          ]
        }
      ]
    },
    {
      "cell_type": "code",
      "source": [
        "!pip install sionna"
      ],
      "metadata": {
        "colab": {
          "base_uri": "https://localhost:8080/"
        },
        "id": "N4g-iOhykKG-",
        "outputId": "c86a28ae-fb1f-4d98-dffd-98b2a11faf99"
      },
      "id": "N4g-iOhykKG-",
      "execution_count": null,
      "outputs": [
        {
          "output_type": "stream",
          "name": "stdout",
          "text": [
            "Requirement already satisfied: sionna in /usr/local/lib/python3.10/dist-packages (0.15.1)\n",
            "Requirement already satisfied: numpy in /usr/local/lib/python3.10/dist-packages (from sionna) (1.23.5)\n",
            "Requirement already satisfied: matplotlib in /usr/local/lib/python3.10/dist-packages (from sionna) (3.7.1)\n",
            "Requirement already satisfied: scipy>=1.6.0 in /usr/local/lib/python3.10/dist-packages (from sionna) (1.11.3)\n",
            "Requirement already satisfied: importlib-resources in /usr/local/lib/python3.10/dist-packages (from sionna) (6.1.0)\n",
            "Requirement already satisfied: mitsuba>=3.2.0 in /usr/local/lib/python3.10/dist-packages (from sionna) (3.4.0)\n",
            "Requirement already satisfied: pythreejs>=2.4.2 in /usr/local/lib/python3.10/dist-packages (from sionna) (2.4.2)\n",
            "Requirement already satisfied: ipywidgets>=8.0.4 in /usr/local/lib/python3.10/dist-packages (from sionna) (8.0.5)\n",
            "Requirement already satisfied: ipydatawidgets==4.3.2 in /usr/local/lib/python3.10/dist-packages (from sionna) (4.3.2)\n",
            "Requirement already satisfied: jupyterlab-widgets==3.0.5 in /usr/local/lib/python3.10/dist-packages (from sionna) (3.0.5)\n",
            "Requirement already satisfied: tensorflow!=2.11.0,!=2.9.0,!=2.9.1,!=2.9.2,>=2.10.1 in /usr/local/lib/python3.10/dist-packages (from sionna) (2.13.0)\n",
            "Requirement already satisfied: traittypes>=0.2.0 in /usr/local/lib/python3.10/dist-packages (from ipydatawidgets==4.3.2->sionna) (0.2.1)\n",
            "Requirement already satisfied: ipython>=6.1.0 in /usr/local/lib/python3.10/dist-packages (from ipywidgets>=8.0.4->sionna) (7.34.0)\n",
            "Requirement already satisfied: traitlets>=4.3.1 in /usr/local/lib/python3.10/dist-packages (from ipywidgets>=8.0.4->sionna) (5.7.1)\n",
            "Requirement already satisfied: widgetsnbextension~=4.0 in /usr/local/lib/python3.10/dist-packages (from ipywidgets>=8.0.4->sionna) (4.0.9)\n",
            "Requirement already satisfied: drjit==0.4.3 in /usr/local/lib/python3.10/dist-packages (from mitsuba>=3.2.0->sionna) (0.4.3)\n",
            "Requirement already satisfied: absl-py>=1.0.0 in /usr/local/lib/python3.10/dist-packages (from tensorflow!=2.11.0,!=2.9.0,!=2.9.1,!=2.9.2,>=2.10.1->sionna) (1.4.0)\n",
            "Requirement already satisfied: astunparse>=1.6.0 in /usr/local/lib/python3.10/dist-packages (from tensorflow!=2.11.0,!=2.9.0,!=2.9.1,!=2.9.2,>=2.10.1->sionna) (1.6.3)\n",
            "Requirement already satisfied: flatbuffers>=23.1.21 in /usr/local/lib/python3.10/dist-packages (from tensorflow!=2.11.0,!=2.9.0,!=2.9.1,!=2.9.2,>=2.10.1->sionna) (23.5.26)\n",
            "Requirement already satisfied: gast<=0.4.0,>=0.2.1 in /usr/local/lib/python3.10/dist-packages (from tensorflow!=2.11.0,!=2.9.0,!=2.9.1,!=2.9.2,>=2.10.1->sionna) (0.4.0)\n",
            "Requirement already satisfied: google-pasta>=0.1.1 in /usr/local/lib/python3.10/dist-packages (from tensorflow!=2.11.0,!=2.9.0,!=2.9.1,!=2.9.2,>=2.10.1->sionna) (0.2.0)\n",
            "Requirement already satisfied: grpcio<2.0,>=1.24.3 in /usr/local/lib/python3.10/dist-packages (from tensorflow!=2.11.0,!=2.9.0,!=2.9.1,!=2.9.2,>=2.10.1->sionna) (1.59.0)\n",
            "Requirement already satisfied: h5py>=2.9.0 in /usr/local/lib/python3.10/dist-packages (from tensorflow!=2.11.0,!=2.9.0,!=2.9.1,!=2.9.2,>=2.10.1->sionna) (3.9.0)\n",
            "Requirement already satisfied: keras<2.14,>=2.13.1 in /usr/local/lib/python3.10/dist-packages (from tensorflow!=2.11.0,!=2.9.0,!=2.9.1,!=2.9.2,>=2.10.1->sionna) (2.13.1)\n",
            "Requirement already satisfied: libclang>=13.0.0 in /usr/local/lib/python3.10/dist-packages (from tensorflow!=2.11.0,!=2.9.0,!=2.9.1,!=2.9.2,>=2.10.1->sionna) (16.0.6)\n",
            "Requirement already satisfied: opt-einsum>=2.3.2 in /usr/local/lib/python3.10/dist-packages (from tensorflow!=2.11.0,!=2.9.0,!=2.9.1,!=2.9.2,>=2.10.1->sionna) (3.3.0)\n",
            "Requirement already satisfied: packaging in /usr/local/lib/python3.10/dist-packages (from tensorflow!=2.11.0,!=2.9.0,!=2.9.1,!=2.9.2,>=2.10.1->sionna) (23.2)\n",
            "Requirement already satisfied: protobuf!=4.21.0,!=4.21.1,!=4.21.2,!=4.21.3,!=4.21.4,!=4.21.5,<5.0.0dev,>=3.20.3 in /usr/local/lib/python3.10/dist-packages (from tensorflow!=2.11.0,!=2.9.0,!=2.9.1,!=2.9.2,>=2.10.1->sionna) (3.20.3)\n",
            "Requirement already satisfied: setuptools in /usr/local/lib/python3.10/dist-packages (from tensorflow!=2.11.0,!=2.9.0,!=2.9.1,!=2.9.2,>=2.10.1->sionna) (67.7.2)\n",
            "Requirement already satisfied: six>=1.12.0 in /usr/local/lib/python3.10/dist-packages (from tensorflow!=2.11.0,!=2.9.0,!=2.9.1,!=2.9.2,>=2.10.1->sionna) (1.16.0)\n",
            "Requirement already satisfied: tensorboard<2.14,>=2.13 in /usr/local/lib/python3.10/dist-packages (from tensorflow!=2.11.0,!=2.9.0,!=2.9.1,!=2.9.2,>=2.10.1->sionna) (2.13.0)\n",
            "Requirement already satisfied: tensorflow-estimator<2.14,>=2.13.0 in /usr/local/lib/python3.10/dist-packages (from tensorflow!=2.11.0,!=2.9.0,!=2.9.1,!=2.9.2,>=2.10.1->sionna) (2.13.0)\n",
            "Requirement already satisfied: termcolor>=1.1.0 in /usr/local/lib/python3.10/dist-packages (from tensorflow!=2.11.0,!=2.9.0,!=2.9.1,!=2.9.2,>=2.10.1->sionna) (2.3.0)\n",
            "Requirement already satisfied: typing-extensions<4.6.0,>=3.6.6 in /usr/local/lib/python3.10/dist-packages (from tensorflow!=2.11.0,!=2.9.0,!=2.9.1,!=2.9.2,>=2.10.1->sionna) (4.5.0)\n",
            "Requirement already satisfied: wrapt>=1.11.0 in /usr/local/lib/python3.10/dist-packages (from tensorflow!=2.11.0,!=2.9.0,!=2.9.1,!=2.9.2,>=2.10.1->sionna) (1.15.0)\n",
            "Requirement already satisfied: tensorflow-io-gcs-filesystem>=0.23.1 in /usr/local/lib/python3.10/dist-packages (from tensorflow!=2.11.0,!=2.9.0,!=2.9.1,!=2.9.2,>=2.10.1->sionna) (0.34.0)\n",
            "Requirement already satisfied: contourpy>=1.0.1 in /usr/local/lib/python3.10/dist-packages (from matplotlib->sionna) (1.1.1)\n",
            "Requirement already satisfied: cycler>=0.10 in /usr/local/lib/python3.10/dist-packages (from matplotlib->sionna) (0.12.0)\n",
            "Requirement already satisfied: fonttools>=4.22.0 in /usr/local/lib/python3.10/dist-packages (from matplotlib->sionna) (4.43.0)\n",
            "Requirement already satisfied: kiwisolver>=1.0.1 in /usr/local/lib/python3.10/dist-packages (from matplotlib->sionna) (1.4.5)\n",
            "Requirement already satisfied: pillow>=6.2.0 in /usr/local/lib/python3.10/dist-packages (from matplotlib->sionna) (9.4.0)\n",
            "Requirement already satisfied: pyparsing>=2.3.1 in /usr/local/lib/python3.10/dist-packages (from matplotlib->sionna) (3.1.1)\n",
            "Requirement already satisfied: python-dateutil>=2.7 in /usr/local/lib/python3.10/dist-packages (from matplotlib->sionna) (2.8.2)\n",
            "Requirement already satisfied: wheel<1.0,>=0.23.0 in /usr/local/lib/python3.10/dist-packages (from astunparse>=1.6.0->tensorflow!=2.11.0,!=2.9.0,!=2.9.1,!=2.9.2,>=2.10.1->sionna) (0.41.2)\n",
            "Requirement already satisfied: jedi>=0.16 in /usr/local/lib/python3.10/dist-packages (from ipython>=6.1.0->ipywidgets>=8.0.4->sionna) (0.19.1)\n",
            "Requirement already satisfied: decorator in /usr/local/lib/python3.10/dist-packages (from ipython>=6.1.0->ipywidgets>=8.0.4->sionna) (4.4.2)\n",
            "Requirement already satisfied: pickleshare in /usr/local/lib/python3.10/dist-packages (from ipython>=6.1.0->ipywidgets>=8.0.4->sionna) (0.7.5)\n",
            "Requirement already satisfied: prompt-toolkit!=3.0.0,!=3.0.1,<3.1.0,>=2.0.0 in /usr/local/lib/python3.10/dist-packages (from ipython>=6.1.0->ipywidgets>=8.0.4->sionna) (3.0.39)\n",
            "Requirement already satisfied: pygments in /usr/local/lib/python3.10/dist-packages (from ipython>=6.1.0->ipywidgets>=8.0.4->sionna) (2.16.1)\n",
            "Requirement already satisfied: backcall in /usr/local/lib/python3.10/dist-packages (from ipython>=6.1.0->ipywidgets>=8.0.4->sionna) (0.2.0)\n",
            "Requirement already satisfied: matplotlib-inline in /usr/local/lib/python3.10/dist-packages (from ipython>=6.1.0->ipywidgets>=8.0.4->sionna) (0.1.6)\n",
            "Requirement already satisfied: pexpect>4.3 in /usr/local/lib/python3.10/dist-packages (from ipython>=6.1.0->ipywidgets>=8.0.4->sionna) (4.8.0)\n",
            "Requirement already satisfied: google-auth<3,>=1.6.3 in /usr/local/lib/python3.10/dist-packages (from tensorboard<2.14,>=2.13->tensorflow!=2.11.0,!=2.9.0,!=2.9.1,!=2.9.2,>=2.10.1->sionna) (2.17.3)\n",
            "Requirement already satisfied: google-auth-oauthlib<1.1,>=0.5 in /usr/local/lib/python3.10/dist-packages (from tensorboard<2.14,>=2.13->tensorflow!=2.11.0,!=2.9.0,!=2.9.1,!=2.9.2,>=2.10.1->sionna) (1.0.0)\n",
            "Requirement already satisfied: markdown>=2.6.8 in /usr/local/lib/python3.10/dist-packages (from tensorboard<2.14,>=2.13->tensorflow!=2.11.0,!=2.9.0,!=2.9.1,!=2.9.2,>=2.10.1->sionna) (3.4.4)\n",
            "Requirement already satisfied: requests<3,>=2.21.0 in /usr/local/lib/python3.10/dist-packages (from tensorboard<2.14,>=2.13->tensorflow!=2.11.0,!=2.9.0,!=2.9.1,!=2.9.2,>=2.10.1->sionna) (2.31.0)\n",
            "Requirement already satisfied: tensorboard-data-server<0.8.0,>=0.7.0 in /usr/local/lib/python3.10/dist-packages (from tensorboard<2.14,>=2.13->tensorflow!=2.11.0,!=2.9.0,!=2.9.1,!=2.9.2,>=2.10.1->sionna) (0.7.1)\n",
            "Requirement already satisfied: werkzeug>=1.0.1 in /usr/local/lib/python3.10/dist-packages (from tensorboard<2.14,>=2.13->tensorflow!=2.11.0,!=2.9.0,!=2.9.1,!=2.9.2,>=2.10.1->sionna) (3.0.0)\n",
            "Requirement already satisfied: cachetools<6.0,>=2.0.0 in /usr/local/lib/python3.10/dist-packages (from google-auth<3,>=1.6.3->tensorboard<2.14,>=2.13->tensorflow!=2.11.0,!=2.9.0,!=2.9.1,!=2.9.2,>=2.10.1->sionna) (5.3.1)\n",
            "Requirement already satisfied: pyasn1-modules>=0.2.1 in /usr/local/lib/python3.10/dist-packages (from google-auth<3,>=1.6.3->tensorboard<2.14,>=2.13->tensorflow!=2.11.0,!=2.9.0,!=2.9.1,!=2.9.2,>=2.10.1->sionna) (0.3.0)\n",
            "Requirement already satisfied: rsa<5,>=3.1.4 in /usr/local/lib/python3.10/dist-packages (from google-auth<3,>=1.6.3->tensorboard<2.14,>=2.13->tensorflow!=2.11.0,!=2.9.0,!=2.9.1,!=2.9.2,>=2.10.1->sionna) (4.9)\n",
            "Requirement already satisfied: requests-oauthlib>=0.7.0 in /usr/local/lib/python3.10/dist-packages (from google-auth-oauthlib<1.1,>=0.5->tensorboard<2.14,>=2.13->tensorflow!=2.11.0,!=2.9.0,!=2.9.1,!=2.9.2,>=2.10.1->sionna) (1.3.1)\n",
            "Requirement already satisfied: parso<0.9.0,>=0.8.3 in /usr/local/lib/python3.10/dist-packages (from jedi>=0.16->ipython>=6.1.0->ipywidgets>=8.0.4->sionna) (0.8.3)\n",
            "Requirement already satisfied: ptyprocess>=0.5 in /usr/local/lib/python3.10/dist-packages (from pexpect>4.3->ipython>=6.1.0->ipywidgets>=8.0.4->sionna) (0.7.0)\n",
            "Requirement already satisfied: wcwidth in /usr/local/lib/python3.10/dist-packages (from prompt-toolkit!=3.0.0,!=3.0.1,<3.1.0,>=2.0.0->ipython>=6.1.0->ipywidgets>=8.0.4->sionna) (0.2.8)\n",
            "Requirement already satisfied: charset-normalizer<4,>=2 in /usr/local/lib/python3.10/dist-packages (from requests<3,>=2.21.0->tensorboard<2.14,>=2.13->tensorflow!=2.11.0,!=2.9.0,!=2.9.1,!=2.9.2,>=2.10.1->sionna) (3.3.0)\n",
            "Requirement already satisfied: idna<4,>=2.5 in /usr/local/lib/python3.10/dist-packages (from requests<3,>=2.21.0->tensorboard<2.14,>=2.13->tensorflow!=2.11.0,!=2.9.0,!=2.9.1,!=2.9.2,>=2.10.1->sionna) (3.4)\n",
            "Requirement already satisfied: urllib3<3,>=1.21.1 in /usr/local/lib/python3.10/dist-packages (from requests<3,>=2.21.0->tensorboard<2.14,>=2.13->tensorflow!=2.11.0,!=2.9.0,!=2.9.1,!=2.9.2,>=2.10.1->sionna) (2.0.6)\n",
            "Requirement already satisfied: certifi>=2017.4.17 in /usr/local/lib/python3.10/dist-packages (from requests<3,>=2.21.0->tensorboard<2.14,>=2.13->tensorflow!=2.11.0,!=2.9.0,!=2.9.1,!=2.9.2,>=2.10.1->sionna) (2023.7.22)\n",
            "Requirement already satisfied: MarkupSafe>=2.1.1 in /usr/local/lib/python3.10/dist-packages (from werkzeug>=1.0.1->tensorboard<2.14,>=2.13->tensorflow!=2.11.0,!=2.9.0,!=2.9.1,!=2.9.2,>=2.10.1->sionna) (2.1.3)\n",
            "Requirement already satisfied: pyasn1<0.6.0,>=0.4.6 in /usr/local/lib/python3.10/dist-packages (from pyasn1-modules>=0.2.1->google-auth<3,>=1.6.3->tensorboard<2.14,>=2.13->tensorflow!=2.11.0,!=2.9.0,!=2.9.1,!=2.9.2,>=2.10.1->sionna) (0.5.0)\n",
            "Requirement already satisfied: oauthlib>=3.0.0 in /usr/local/lib/python3.10/dist-packages (from requests-oauthlib>=0.7.0->google-auth-oauthlib<1.1,>=0.5->tensorboard<2.14,>=2.13->tensorflow!=2.11.0,!=2.9.0,!=2.9.1,!=2.9.2,>=2.10.1->sionna) (3.2.2)\n"
          ]
        }
      ]
    },
    {
      "cell_type": "code",
      "execution_count": null,
      "id": "2abb7b1d-3191-42ff-82e7-94e9ad2ff195",
      "metadata": {
        "id": "2abb7b1d-3191-42ff-82e7-94e9ad2ff195"
      },
      "outputs": [],
      "source": [
        "import numpy as np\n",
        "import matplotlib.pyplot as plt\n",
        "import pickle\n",
        "import rfcutils\n",
        "import h5py\n",
        "\n",
        "import random\n",
        "import tensorflow as tf\n",
        "\n",
        "get_db = lambda p: 10*np.log10(p)\n",
        "get_pow = lambda s: np.mean(np.abs(s)**2, axis=-1)\n",
        "get_sinr = lambda s, i: get_pow(s)/get_pow(i)\n",
        "get_sinr_db = lambda s, i: get_db(get_sinr(s,i))"
      ]
    },
    {
      "cell_type": "code",
      "execution_count": null,
      "id": "d72d61a6-34c5-4dda-be08-10259ba031a3",
      "metadata": {
        "id": "d72d61a6-34c5-4dda-be08-10259ba031a3"
      },
      "outputs": [],
      "source": [
        "sig_len = 40960\n",
        "n_per_batch = 100\n",
        "all_sinr = np.arange(-30, 0.1, 3)\n",
        "\n",
        "seed_number = 0"
      ]
    },
    {
      "cell_type": "markdown",
      "id": "33f7f5af-94b0-4e26-b358-2463b1c564ff",
      "metadata": {
        "id": "33f7f5af-94b0-4e26-b358-2463b1c564ff"
      },
      "source": [
        "## Creating Training Set (Small Example)"
      ]
    },
    {
      "cell_type": "code",
      "execution_count": null,
      "id": "32ae3f93-68ec-4af5-9c01-ceff00fd70fc",
      "metadata": {
        "id": "32ae3f93-68ec-4af5-9c01-ceff00fd70fc"
      },
      "outputs": [],
      "source": [
        "# Function to obtain the relevant generation and demodulation function for SOI type; we will focus on QPSK and OFDMQPSK for now\n",
        "def get_soi_generation_fn(soi_sig_type):\n",
        "    if soi_sig_type == 'QPSK':\n",
        "        generate_soi = lambda n, s_len: rfcutils.generate_qpsk_signal(n, s_len//16)\n",
        "        demod_soi = rfcutils.qpsk_matched_filter_demod\n",
        "    elif soi_sig_type == 'QAM16':\n",
        "        generate_soi = lambda n, s_len: rfcutils.generate_qam16_signal(n, s_len//16)\n",
        "        demod_soi = rfcutils.qam16_matched_filter_demod\n",
        "    elif soi_sig_type ==  'QPSK2':\n",
        "        generate_soi = lambda n, s_len: rfcutils.generate_qpsk2_signal(n, s_len//4)\n",
        "        demod_soi = rfcutils.qpsk2_matched_filter_demod\n",
        "    elif soi_sig_type == 'OFDMQPSK':\n",
        "        generate_soi = lambda n, s_len: rfcutils.generate_ofdm_signal(n, s_len//80)\n",
        "        _,_,_,RES_GRID = rfcutils.generate_ofdm_signal(1, sig_len//80)\n",
        "        demod_soi = lambda s: rfcutils.ofdm_demod(s, RES_GRID)\n",
        "    else:\n",
        "        raise Exception(\"SOI Type not recognized\")\n",
        "    return generate_soi, demod_soi"
      ]
    },
    {
      "cell_type": "code",
      "execution_count": null,
      "id": "8df395fc-f727-472c-bccb-9928ae57476d",
      "metadata": {
        "id": "8df395fc-f727-472c-bccb-9928ae57476d"
      },
      "outputs": [],
      "source": [
        "sig_len = 40960\n",
        "n_per_batch = 100\n",
        "all_sinr = np.arange(-30, 0.1, 3)\n",
        "\n",
        "soi_type, interference_sig_type = 'QPSK', 'CommSignal2'\n",
        "\n",
        "seed_number = 0\n",
        "\n",
        "random.seed(seed_number)\n",
        "np.random.seed(seed_number)\n",
        "tf.random.set_seed(seed_number)\n",
        "\n",
        "generate_soi, demod_soi = get_soi_generation_fn(soi_type)\n",
        "\n",
        "with h5py.File(os.path.join('dataset', 'interferenceset_frame', interference_sig_type+'_raw_data.h5'),'r') as data_h5file:\n",
        "    sig_data = np.array(data_h5file.get('dataset'))\n",
        "    sig_type_info = data_h5file.get('sig_type')[()]\n",
        "    if isinstance(sig_type_info, bytes):\n",
        "        sig_type_info = sig_type_info.decode(\"utf-8\")"
      ]
    },
    {
      "cell_type": "code",
      "execution_count": null,
      "id": "5c381346-69be-4d37-a74c-128aa9fdef9d",
      "metadata": {
        "id": "5c381346-69be-4d37-a74c-128aa9fdef9d"
      },
      "outputs": [],
      "source": [
        "all_sig_mixture, all_sig1, all_bits1, meta_data = [], [], [], []\n",
        "for idx, sinr in enumerate(all_sinr):\n",
        "    sig1, _, bits1, _ = generate_soi(n_per_batch, sig_len)\n",
        "    sig2 = sig_data[np.random.randint(sig_data.shape[0], size=(n_per_batch)), :]\n",
        "\n",
        "    sig_target = sig1[:, :sig_len]\n",
        "\n",
        "    rand_start_idx2 = np.random.randint(sig2.shape[1]-sig_len, size=sig2.shape[0])\n",
        "    inds2 = tf.cast(rand_start_idx2.reshape(-1,1) + np.arange(sig_len).reshape(1,-1), tf.int32)\n",
        "    sig_interference = tf.experimental.numpy.take_along_axis(sig2, inds2, axis=1)\n",
        "\n",
        "    # Interference Coefficient\n",
        "    rand_gain = np.sqrt(10**(-sinr/10)).astype(np.float32)\n",
        "    rand_phase = tf.random.uniform(shape=[sig_interference.shape[0],1])\n",
        "    rand_gain = tf.complex(rand_gain, tf.zeros_like(rand_gain))\n",
        "    rand_phase = tf.complex(rand_phase, tf.zeros_like(rand_phase))\n",
        "    coeff = rand_gain * tf.math.exp(1j*2*np.pi*rand_phase)\n",
        "\n",
        "    sig_mixture = sig_target + sig_interference * coeff\n",
        "\n",
        "    all_sig_mixture.append(sig_mixture)\n",
        "    all_sig1.append(sig_target)\n",
        "    all_bits1.append(bits1)\n",
        "\n",
        "    actual_sinr = get_sinr_db(sig_target, sig_interference * coeff)\n",
        "    meta_data.append(np.vstack(([rand_gain.numpy().real for _ in range(n_per_batch)], [sinr for _ in range(n_per_batch)], actual_sinr, [soi_type for _ in range(n_per_batch)], [interference_sig_type for _ in range(n_per_batch)])))\n",
        "\n",
        "with tf.device('CPU'):\n",
        "    all_sig_mixture = tf.concat(all_sig_mixture, axis=0).numpy()\n",
        "    all_sig1 = tf.concat(all_sig1, axis=0).numpy()\n",
        "    all_bits1 = tf.concat(all_bits1, axis=0).numpy()\n",
        "\n",
        "meta_data = np.concatenate(meta_data, axis=1).T"
      ]
    },
    {
      "cell_type": "markdown",
      "id": "eb04bf5a-1ec9-4ac5-94c4-fde839cfd8e0",
      "metadata": {
        "id": "eb04bf5a-1ec9-4ac5-94c4-fde839cfd8e0"
      },
      "source": [
        "### TODO: Train a model\n",
        "\n",
        "***Input***: `all_sig_mixture` (and optionally, `meta_data`)\n",
        "\n",
        "***Output***: `all_sig1` and `all_bits1`"
      ]
    },
    {
      "cell_type": "markdown",
      "id": "39d59539-0355-4269-a95a-88743dae46aa",
      "metadata": {
        "id": "39d59539-0355-4269-a95a-88743dae46aa"
      },
      "source": [
        "## Example Inference/Output Submission"
      ]
    },
    {
      "cell_type": "code",
      "execution_count": null,
      "id": "9d56590c-f108-410c-835c-0971b59c9cab",
      "metadata": {
        "id": "9d56590c-f108-410c-835c-0971b59c9cab"
      },
      "outputs": [],
      "source": [
        "testset_identifier = 'TestSet1Mixture'\n",
        "all_sig_mixture = np.load(os.path.join('dataset', f'{testset_identifier}_testmixture_{soi_type}_{interference_sig_type}.npy'))\n",
        "meta_data = np.load(os.path.join('dataset', f'{testset_identifier}_testmixture_{soi_type}_{interference_sig_type}_metadata.npy'))"
      ]
    },
    {
      "cell_type": "code",
      "execution_count": null,
      "id": "63a2e11a-22c9-4c88-b532-622275d79696",
      "metadata": {
        "id": "63a2e11a-22c9-4c88-b532-622275d79696"
      },
      "outputs": [],
      "source": [
        "n_per_batch = 100\n",
        "all_sinr = np.arange(-30, 0.1, 3)\n",
        "\n",
        "id_string = 'ExampleNoMitigation'\n",
        "def run_inference(all_sig_mixture, meta_data, soi_type, interference_sig_type):\n",
        "\n",
        "    ##################################################\n",
        "    # Perform your inference here.\n",
        "    ##################################################\n",
        "    generate_soi, demod_soi = get_soi_generation_fn(soi_type)\n",
        "\n",
        "    # E.g. No mitigation, standard matched filtering demodulation\n",
        "    sig1_est = all_sig_mixture\n",
        "\n",
        "    bit_est = []\n",
        "    for idx, sinr_db in enumerate(all_sinr):\n",
        "        bit_est_batch, _ = demod_soi(sig1_est[idx*n_per_batch:(idx+1)*n_per_batch])\n",
        "        bit_est.append(bit_est_batch)\n",
        "    bit_est = tf.concat(bit_est, axis=0)\n",
        "    sig1_est, bit_est = sig1_est, bit_est.numpy()\n",
        "    ##################################################\n",
        "\n",
        "    return sig1_est, bit_est"
      ]
    },
    {
      "cell_type": "code",
      "execution_count": null,
      "id": "3857f7c5-a4e9-4001-b7e9-137b054c2871",
      "metadata": {
        "id": "3857f7c5-a4e9-4001-b7e9-137b054c2871"
      },
      "outputs": [],
      "source": [
        "sig1_est, bit1_est = run_inference(all_sig_mixture, meta_data, soi_type, interference_sig_type)\n",
        "np.save(os.path.join('outputs', f'{id_string}_{testset_identifier}_estimated_soi_{soi_type}_{interference_sig_type}'), sig1_est)\n",
        "np.save(os.path.join('outputs', f'{id_string}_{testset_identifier}_estimated_bits_{soi_type}_{interference_sig_type}'), bit1_est)"
      ]
    }
  ],
  "metadata": {
    "kernelspec": {
      "display_name": "Python 3",
      "language": "python",
      "name": "python3"
    },
    "language_info": {
      "codemirror_mode": {
        "name": "ipython",
        "version": 3
      },
      "file_extension": ".py",
      "mimetype": "text/x-python",
      "name": "python",
      "nbconvert_exporter": "python",
      "pygments_lexer": "ipython3",
      "version": "3.10.1"
    },
    "colab": {
      "provenance": [],
      "include_colab_link": true
    }
  },
  "nbformat": 4,
  "nbformat_minor": 5
}